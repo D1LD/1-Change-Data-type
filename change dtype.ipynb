{
 "cells": [
  {
   "cell_type": "code",
   "execution_count": 1,
   "id": "682acd87-be8b-4f7d-9c07-5981c6a0ad0b",
   "metadata": {},
   "outputs": [
    {
     "name": "stdout",
     "output_type": "stream",
     "text": [
      "['2', '8', '10', '20']\n"
     ]
    }
   ],
   "source": [
    "list_str=['2','8','10','20']\n",
    "print(list_str)"
   ]
  },
  {
   "cell_type": "code",
   "execution_count": 2,
   "id": "1c9c2eb2-d020-4661-a4b9-1f44fd6fe361",
   "metadata": {},
   "outputs": [
    {
     "name": "stdout",
     "output_type": "stream",
     "text": [
      "[2, 8, 10, 20]\n"
     ]
    }
   ],
   "source": [
    "list_int=list(map(int,list_str))\n",
    "print(list_int)"
   ]
  },
  {
   "cell_type": "code",
   "execution_count": 3,
   "id": "b669eb40-0565-41d1-9a1d-23e38b8e2831",
   "metadata": {},
   "outputs": [
    {
     "name": "stdout",
     "output_type": "stream",
     "text": [
      "[2.0, 8.0, 10.0, 20.0]\n"
     ]
    }
   ],
   "source": [
    "list_float=list(map(float,list_str))\n",
    "print(list_float)"
   ]
  }
 ],
 "metadata": {
  "kernelspec": {
   "display_name": "Python 3 (ipykernel)",
   "language": "python",
   "name": "python3"
  },
  "language_info": {
   "codemirror_mode": {
    "name": "ipython",
    "version": 3
   },
   "file_extension": ".py",
   "mimetype": "text/x-python",
   "name": "python",
   "nbconvert_exporter": "python",
   "pygments_lexer": "ipython3",
   "version": "3.9.12"
  }
 },
 "nbformat": 4,
 "nbformat_minor": 5
}
